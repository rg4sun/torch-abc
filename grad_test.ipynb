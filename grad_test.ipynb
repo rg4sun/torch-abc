{
 "cells": [
  {
   "cell_type": "code",
   "execution_count": 2,
   "source": [
    "x_data = [1.0, 2.0, 3.0]\n",
    "y_data = [2.0, 4.0, 6.0]\n",
    "\n",
    "w = 1.0"
   ],
   "outputs": [],
   "metadata": {}
  },
  {
   "cell_type": "code",
   "execution_count": 3,
   "source": [
    "def forward(x):\n",
    "    return x*w\n",
    "\n",
    "def cost(xs, ys):\n",
    "    cost = 0\n",
    "    for x,y in zip(xs, ys):\n",
    "        y_pred = forward(x)\n",
    "        cost += (y_pred - y)**2\n",
    "    return cost / len(xs)\n",
    "\n",
    "def gradient(xs, ys):\n",
    "    grad = 0\n",
    "    for x, y in zip(xs, ys):\n",
    "        grad += 2*x*(x*w - y)\n",
    "    return grad / len(xs)\n",
    "\n"
   ],
   "outputs": [],
   "metadata": {}
  },
  {
   "cell_type": "code",
   "execution_count": 4,
   "source": [
    "('Predict (before training)', 4, forward(4))"
   ],
   "outputs": [
    {
     "output_type": "execute_result",
     "data": {
      "text/plain": [
       "('Predict (before training)', 4, 4.0)"
      ]
     },
     "metadata": {},
     "execution_count": 4
    }
   ],
   "metadata": {}
  },
  {
   "cell_type": "code",
   "execution_count": 5,
   "source": [
    "alpha = 0.1\n",
    "for epoch in range(100):\n",
    "    cost_val = cost(x_data, y_data)\n",
    "    grad_val = gradient(x_data, y_data)\n",
    "    w -= alpha*grad_val\n",
    "    print('Epoch:', epoch, 'w=', w, 'loss=', cost_val)\n",
    "print('Predict (after training)', 4, forward(4))"
   ],
   "outputs": [
    {
     "output_type": "stream",
     "name": "stdout",
     "text": [
      "Epoch: 0 w= 1.9333333333333336 loss= 4.666666666666667\n",
      "Epoch: 1 w= 1.9955555555555555 loss= 0.020740740740740594\n",
      "Epoch: 2 w= 1.9997037037037038 loss= 9.218106995885089e-05\n",
      "Epoch: 3 w= 1.9999802469135801 loss= 4.096936442612555e-07\n",
      "Epoch: 4 w= 1.999998683127572 loss= 1.820860641186282e-09\n",
      "Epoch: 5 w= 1.9999999122085048 loss= 8.092713960827921e-12\n",
      "Epoch: 6 w= 1.9999999941472337 loss= 3.5967617630537535e-14\n",
      "Epoch: 7 w= 1.9999999996098157 loss= 1.598560741415451e-16\n",
      "Epoch: 8 w= 1.9999999999739877 loss= 7.104714637326717e-19\n",
      "Epoch: 9 w= 1.9999999999982658 loss= 3.1576645553726146e-21\n",
      "Epoch: 10 w= 1.9999999999998845 loss= 1.4035793259433332e-23\n",
      "Epoch: 11 w= 1.9999999999999922 loss= 6.221483005843047e-26\n",
      "Epoch: 12 w= 1.9999999999999993 loss= 2.7841859573644085e-28\n",
      "Epoch: 13 w= 2.0 loss= 1.791371638939381e-30\n",
      "Epoch: 14 w= 2.0 loss= 0.0\n",
      "Epoch: 15 w= 2.0 loss= 0.0\n",
      "Epoch: 16 w= 2.0 loss= 0.0\n",
      "Epoch: 17 w= 2.0 loss= 0.0\n",
      "Epoch: 18 w= 2.0 loss= 0.0\n",
      "Epoch: 19 w= 2.0 loss= 0.0\n",
      "Epoch: 20 w= 2.0 loss= 0.0\n",
      "Epoch: 21 w= 2.0 loss= 0.0\n",
      "Epoch: 22 w= 2.0 loss= 0.0\n",
      "Epoch: 23 w= 2.0 loss= 0.0\n",
      "Epoch: 24 w= 2.0 loss= 0.0\n",
      "Epoch: 25 w= 2.0 loss= 0.0\n",
      "Epoch: 26 w= 2.0 loss= 0.0\n",
      "Epoch: 27 w= 2.0 loss= 0.0\n",
      "Epoch: 28 w= 2.0 loss= 0.0\n",
      "Epoch: 29 w= 2.0 loss= 0.0\n",
      "Epoch: 30 w= 2.0 loss= 0.0\n",
      "Epoch: 31 w= 2.0 loss= 0.0\n",
      "Epoch: 32 w= 2.0 loss= 0.0\n",
      "Epoch: 33 w= 2.0 loss= 0.0\n",
      "Epoch: 34 w= 2.0 loss= 0.0\n",
      "Epoch: 35 w= 2.0 loss= 0.0\n",
      "Epoch: 36 w= 2.0 loss= 0.0\n",
      "Epoch: 37 w= 2.0 loss= 0.0\n",
      "Epoch: 38 w= 2.0 loss= 0.0\n",
      "Epoch: 39 w= 2.0 loss= 0.0\n",
      "Epoch: 40 w= 2.0 loss= 0.0\n",
      "Epoch: 41 w= 2.0 loss= 0.0\n",
      "Epoch: 42 w= 2.0 loss= 0.0\n",
      "Epoch: 43 w= 2.0 loss= 0.0\n",
      "Epoch: 44 w= 2.0 loss= 0.0\n",
      "Epoch: 45 w= 2.0 loss= 0.0\n",
      "Epoch: 46 w= 2.0 loss= 0.0\n",
      "Epoch: 47 w= 2.0 loss= 0.0\n",
      "Epoch: 48 w= 2.0 loss= 0.0\n",
      "Epoch: 49 w= 2.0 loss= 0.0\n",
      "Epoch: 50 w= 2.0 loss= 0.0\n",
      "Epoch: 51 w= 2.0 loss= 0.0\n",
      "Epoch: 52 w= 2.0 loss= 0.0\n",
      "Epoch: 53 w= 2.0 loss= 0.0\n",
      "Epoch: 54 w= 2.0 loss= 0.0\n",
      "Epoch: 55 w= 2.0 loss= 0.0\n",
      "Epoch: 56 w= 2.0 loss= 0.0\n",
      "Epoch: 57 w= 2.0 loss= 0.0\n",
      "Epoch: 58 w= 2.0 loss= 0.0\n",
      "Epoch: 59 w= 2.0 loss= 0.0\n",
      "Epoch: 60 w= 2.0 loss= 0.0\n",
      "Epoch: 61 w= 2.0 loss= 0.0\n",
      "Epoch: 62 w= 2.0 loss= 0.0\n",
      "Epoch: 63 w= 2.0 loss= 0.0\n",
      "Epoch: 64 w= 2.0 loss= 0.0\n",
      "Epoch: 65 w= 2.0 loss= 0.0\n",
      "Epoch: 66 w= 2.0 loss= 0.0\n",
      "Epoch: 67 w= 2.0 loss= 0.0\n",
      "Epoch: 68 w= 2.0 loss= 0.0\n",
      "Epoch: 69 w= 2.0 loss= 0.0\n",
      "Epoch: 70 w= 2.0 loss= 0.0\n",
      "Epoch: 71 w= 2.0 loss= 0.0\n",
      "Epoch: 72 w= 2.0 loss= 0.0\n",
      "Epoch: 73 w= 2.0 loss= 0.0\n",
      "Epoch: 74 w= 2.0 loss= 0.0\n",
      "Epoch: 75 w= 2.0 loss= 0.0\n",
      "Epoch: 76 w= 2.0 loss= 0.0\n",
      "Epoch: 77 w= 2.0 loss= 0.0\n",
      "Epoch: 78 w= 2.0 loss= 0.0\n",
      "Epoch: 79 w= 2.0 loss= 0.0\n",
      "Epoch: 80 w= 2.0 loss= 0.0\n",
      "Epoch: 81 w= 2.0 loss= 0.0\n",
      "Epoch: 82 w= 2.0 loss= 0.0\n",
      "Epoch: 83 w= 2.0 loss= 0.0\n",
      "Epoch: 84 w= 2.0 loss= 0.0\n",
      "Epoch: 85 w= 2.0 loss= 0.0\n",
      "Epoch: 86 w= 2.0 loss= 0.0\n",
      "Epoch: 87 w= 2.0 loss= 0.0\n",
      "Epoch: 88 w= 2.0 loss= 0.0\n",
      "Epoch: 89 w= 2.0 loss= 0.0\n",
      "Epoch: 90 w= 2.0 loss= 0.0\n",
      "Epoch: 91 w= 2.0 loss= 0.0\n",
      "Epoch: 92 w= 2.0 loss= 0.0\n",
      "Epoch: 93 w= 2.0 loss= 0.0\n",
      "Epoch: 94 w= 2.0 loss= 0.0\n",
      "Epoch: 95 w= 2.0 loss= 0.0\n",
      "Epoch: 96 w= 2.0 loss= 0.0\n",
      "Epoch: 97 w= 2.0 loss= 0.0\n",
      "Epoch: 98 w= 2.0 loss= 0.0\n",
      "Epoch: 99 w= 2.0 loss= 0.0\n",
      "Predict (after training) 4 8.0\n"
     ]
    }
   ],
   "metadata": {}
  },
  {
   "cell_type": "code",
   "execution_count": null,
   "source": [],
   "outputs": [],
   "metadata": {}
  }
 ],
 "metadata": {
  "orig_nbformat": 4,
  "language_info": {
   "name": "python"
  }
 },
 "nbformat": 4,
 "nbformat_minor": 2
}